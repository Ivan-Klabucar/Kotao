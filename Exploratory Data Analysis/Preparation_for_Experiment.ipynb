{
 "cells": [
  {
   "cell_type": "code",
   "execution_count": 2,
   "id": "11454dc9-2b41-45c0-af69-a5a268b98057",
   "metadata": {},
   "outputs": [],
   "source": [
    "import pandas as pd\n",
    "import seaborn as sns\n",
    "import matplotlib.pyplot as plt\n",
    "\n",
    "pd.set_option('display.max_rows', 500)\n",
    "pd.set_option('display.max_columns', 500)\n",
    "pd.set_option('display.width', 1000)"
   ]
  },
  {
   "cell_type": "markdown",
   "id": "dc976374-c898-4b37-a2f2-2bc417b8579e",
   "metadata": {},
   "source": [
    "## Plan i program\n",
    "\n",
    "- Za PreviousAdmissionDays moramo zamjeniti -8 s medijanom i normalizirati\n",
    "- Weight_Discharge, i Height_Discharge moramo:\n",
    "    - ispraviti raspone tako da ocito krive vrijednosti zamjenimo s medijanom\n",
    "    - normalizirati\n",
    "- LOS, Surgery_Count, i LOS_ICU treba samo normalizirati\n",
    "- Age_Group treba pretvoriti u numericku varijablu 1, 2, 3, ...., N i normalizirati\n",
    "- varijable ljekova zdruziti u skupine ljekova po slicnosti indikacija\n",
    "- sve kategoricke varijable one-hot enkodirati"
   ]
  },
  {
   "cell_type": "code",
   "execution_count": 3,
   "id": "3a9ce10d-9bb0-4d0b-9d76-c31d9ef66231",
   "metadata": {},
   "outputs": [
    {
     "name": "stdout",
     "output_type": "stream",
     "text": [
      "df.shape: (28587, 274)\n",
      "df_test.shape: (7336, 276)\n"
     ]
    }
   ],
   "source": [
    "df = pd.read_csv('../data/train.csv', index_col=0)\n",
    "df_test = pd.read_csv('../data/test.csv', index_col=0)\n",
    "print(f\"df.shape: {df.shape}\")\n",
    "print(f\"df_test.shape: {df_test.shape}\")"
   ]
  },
  {
   "cell_type": "code",
   "execution_count": 4,
   "id": "5e29041a-cedb-4ae4-b43a-50a94e33ee8b",
   "metadata": {},
   "outputs": [
    {
     "name": "stdout",
     "output_type": "stream",
     "text": [
      "all.shape: (35923, 276)\n"
     ]
    }
   ],
   "source": [
    "all = pd.concat([df, df_test])\n",
    "print(f\"all.shape: {all.shape}\")"
   ]
  },
  {
   "cell_type": "code",
   "execution_count": 5,
   "id": "99512a27-e452-423a-b2f0-b1e7525aa3da",
   "metadata": {},
   "outputs": [
    {
     "data": {
      "text/html": [
       "<div>\n",
       "<style scoped>\n",
       "    .dataframe tbody tr th:only-of-type {\n",
       "        vertical-align: middle;\n",
       "    }\n",
       "\n",
       "    .dataframe tbody tr th {\n",
       "        vertical-align: top;\n",
       "    }\n",
       "\n",
       "    .dataframe thead th {\n",
       "        text-align: right;\n",
       "    }\n",
       "</style>\n",
       "<table border=\"1\" class=\"dataframe\">\n",
       "  <thead>\n",
       "    <tr style=\"text-align: right;\">\n",
       "      <th></th>\n",
       "      <th>PreviousAdmissionDays</th>\n",
       "      <th>LOS</th>\n",
       "      <th>Surgery_Count</th>\n",
       "      <th>LOS_ICU</th>\n",
       "      <th>Weight_Discharge</th>\n",
       "      <th>Height_Discharge</th>\n",
       "    </tr>\n",
       "  </thead>\n",
       "  <tbody>\n",
       "    <tr>\n",
       "      <th>count</th>\n",
       "      <td>35923.000000</td>\n",
       "      <td>35923.000000</td>\n",
       "      <td>35923.000000</td>\n",
       "      <td>35923.000000</td>\n",
       "      <td>35923.000000</td>\n",
       "      <td>35923.000000</td>\n",
       "    </tr>\n",
       "    <tr>\n",
       "      <th>mean</th>\n",
       "      <td>1015.737995</td>\n",
       "      <td>4.061326</td>\n",
       "      <td>0.193386</td>\n",
       "      <td>0.118086</td>\n",
       "      <td>81.988513</td>\n",
       "      <td>164.477368</td>\n",
       "    </tr>\n",
       "    <tr>\n",
       "      <th>std</th>\n",
       "      <td>1733.384865</td>\n",
       "      <td>6.338537</td>\n",
       "      <td>0.422212</td>\n",
       "      <td>2.337647</td>\n",
       "      <td>82.550324</td>\n",
       "      <td>140.689627</td>\n",
       "    </tr>\n",
       "    <tr>\n",
       "      <th>min</th>\n",
       "      <td>-8.000000</td>\n",
       "      <td>1.000000</td>\n",
       "      <td>0.000000</td>\n",
       "      <td>0.000000</td>\n",
       "      <td>-8.000000</td>\n",
       "      <td>-8.000000</td>\n",
       "    </tr>\n",
       "    <tr>\n",
       "      <th>25%</th>\n",
       "      <td>-8.000000</td>\n",
       "      <td>2.000000</td>\n",
       "      <td>0.000000</td>\n",
       "      <td>0.000000</td>\n",
       "      <td>72.000000</td>\n",
       "      <td>164.000000</td>\n",
       "    </tr>\n",
       "    <tr>\n",
       "      <th>50%</th>\n",
       "      <td>48.000000</td>\n",
       "      <td>2.000000</td>\n",
       "      <td>0.000000</td>\n",
       "      <td>0.000000</td>\n",
       "      <td>84.000000</td>\n",
       "      <td>171.000000</td>\n",
       "    </tr>\n",
       "    <tr>\n",
       "      <th>75%</th>\n",
       "      <td>1327.000000</td>\n",
       "      <td>4.000000</td>\n",
       "      <td>0.000000</td>\n",
       "      <td>0.000000</td>\n",
       "      <td>95.000000</td>\n",
       "      <td>178.000000</td>\n",
       "    </tr>\n",
       "    <tr>\n",
       "      <th>max</th>\n",
       "      <td>9254.000000</td>\n",
       "      <td>304.000000</td>\n",
       "      <td>5.000000</td>\n",
       "      <td>118.000000</td>\n",
       "      <td>8936.900000</td>\n",
       "      <td>18584.000000</td>\n",
       "    </tr>\n",
       "  </tbody>\n",
       "</table>\n",
       "</div>"
      ],
      "text/plain": [
       "       PreviousAdmissionDays           LOS  Surgery_Count       LOS_ICU  Weight_Discharge  Height_Discharge\n",
       "count           35923.000000  35923.000000   35923.000000  35923.000000      35923.000000      35923.000000\n",
       "mean             1015.737995      4.061326       0.193386      0.118086         81.988513        164.477368\n",
       "std              1733.384865      6.338537       0.422212      2.337647         82.550324        140.689627\n",
       "min                -8.000000      1.000000       0.000000      0.000000         -8.000000         -8.000000\n",
       "25%                -8.000000      2.000000       0.000000      0.000000         72.000000        164.000000\n",
       "50%                48.000000      2.000000       0.000000      0.000000         84.000000        171.000000\n",
       "75%              1327.000000      4.000000       0.000000      0.000000         95.000000        178.000000\n",
       "max              9254.000000    304.000000       5.000000    118.000000       8936.900000      18584.000000"
      ]
     },
     "execution_count": 5,
     "metadata": {},
     "output_type": "execute_result"
    }
   ],
   "source": [
    "numerical_cols=[\n",
    "    'PreviousAdmissionDays',\n",
    "    'LOS',\n",
    "    'Surgery_Count',\n",
    "    'LOS_ICU',\n",
    "    'Weight_Discharge',\n",
    "    'Height_Discharge'\n",
    "]\n",
    "all[numerical_cols].describe()"
   ]
  },
  {
   "cell_type": "markdown",
   "id": "39cd1c55-979f-4a8b-9efd-c960ca660f06",
   "metadata": {},
   "source": [
    "## Weight experiment hyperparameters"
   ]
  },
  {
   "cell_type": "code",
   "execution_count": 6,
   "id": "dd0abd7d-9d2a-4924-b71d-6bc624ff6516",
   "metadata": {},
   "outputs": [
    {
     "data": {
      "image/png": "[encoded data removed]",
      "text/plain": [
       "<Figure size 640x480 with 1 Axes>"
      ]
     },
     "metadata": {},
     "output_type": "display_data"
    }
   ],
   "source": [
    "sns.stripplot(y='Weight_Discharge', data=all[all.Weight_Discharge <= 300])\n",
    "plt.title('Raspodjela tezina ispod 300, iznad 300 su sigurno greske')\n",
    "plt.show()"
   ]
  },
  {
   "cell_type": "markdown",
   "id": "6a8be6c8-3e40-478f-9098-898acb378d41",
   "metadata": {},
   "source": [
    "Veliki pojas u sredini predstavlja normalan raspon."
   ]
  },
  {
   "cell_type": "code",
   "execution_count": 7,
   "id": "11146c2f-55f2-4bed-93ec-5c0741881510",
   "metadata": {},
   "outputs": [
    {
     "name": "stdout",
     "output_type": "stream",
     "text": [
      "Najveća normalna tezina u datasetu: 199.0\n",
      "Najmanja normalna tezina u datasetu: 33.0\n"
     ]
    }
   ],
   "source": [
    "print(f\"Najveća normalna tezina u datasetu: {all[all.Weight_Discharge <= 300].Weight_Discharge.max()}\")\n",
    "print(f\"Najmanja normalna tezina u datasetu: {all[all.Weight_Discharge > 25].Weight_Discharge.min()}\")"
   ]
  },
  {
   "cell_type": "code",
   "execution_count": 8,
   "id": "0d871e40-3833-40d9-943e-3549ed514617",
   "metadata": {},
   "outputs": [
    {
     "data": {
      "text/plain": [
       "Gender\n",
       "M    90.0\n",
       "Ž    75.0\n",
       "Name: Weight_Discharge, dtype: float64"
      ]
     },
     "execution_count": 8,
     "metadata": {},
     "output_type": "execute_result"
    }
   ],
   "source": [
    "weight_median = all[\n",
    "    (all.Weight_Discharge <= 300) & \n",
    "    (all.Weight_Discharge > 25)\n",
    "].groupby('Gender').Weight_Discharge.median()\n",
    "weight_median"
   ]
  },
  {
   "cell_type": "code",
   "execution_count": 9,
   "id": "7cb72839-b839-4743-8c48-b80d9987e21e",
   "metadata": {},
   "outputs": [
    {
     "data": {
      "text/plain": [
       "85.0"
      ]
     },
     "execution_count": 9,
     "metadata": {},
     "output_type": "execute_result"
    }
   ],
   "source": [
    "# To be used for gender missing median\n",
    "all[\n",
    "    (all.Weight_Discharge <= 300) & \n",
    "    (all.Weight_Discharge > 25)\n",
    "].Weight_Discharge.median()"
   ]
  },
  {
   "cell_type": "code",
   "execution_count": null,
   "id": "12eda6d5-1a3d-40e6-97b8-f477852adef7",
   "metadata": {},
   "outputs": [],
   "source": [
    "# Proposed experiemnt hyperparams for weight\n",
    "WEIGHT_MEDIAN_MALE = 90\n",
    "WEIGHT_MEDIAN_FEMALE = 75\n",
    "WEIGHT_MEDIAN_GENDER_MISSING = 85\n",
    "WEIGHT_LOWER_LIM = 33\n",
    "WEIGHT_UPPER_LIM = 199"
   ]
  },
  {
   "cell_type": "markdown",
   "id": "adc7c537-befd-40c4-8eac-163cef0bbfd1",
   "metadata": {},
   "source": [
    "## Height experiment hyperparameters"
   ]
  },
  {
   "cell_type": "code",
   "execution_count": 10,
   "id": "bad6c731-e2f6-417d-ba04-5875685d9b96",
   "metadata": {},
   "outputs": [
    {
     "data": {
      "image/png": "[encoded data removed]",
      "text/plain": [
       "<Figure size 640x480 with 1 Axes>"
      ]
     },
     "metadata": {},
     "output_type": "display_data"
    }
   ],
   "source": [
    "sns.stripplot(y='Height_Discharge', data=all[all.Height_Discharge <= 250])\n",
    "plt.title('Raspodjela visina ispod 250, iznad 250 su sigurno greske')\n",
    "plt.show()"
   ]
  },
  {
   "cell_type": "markdown",
   "id": "57ac40fa-2918-429c-a1f2-d5dbc51ae4a9",
   "metadata": {},
   "source": [
    "Veliki pojas u sredini predstavlja normalan raspon."
   ]
  },
  {
   "cell_type": "code",
   "execution_count": 13,
   "id": "733f4bad-528d-4087-affd-29d6ed553d93",
   "metadata": {},
   "outputs": [
    {
     "name": "stdout",
     "output_type": "stream",
     "text": [
      "Najveća normalna visina u datasetu: 204.0\n",
      "Najmanja normalna visina u datasetu: 130.0\n"
     ]
    }
   ],
   "source": [
    "print(f\"Najveća normalna visina u datasetu: {all[all.Height_Discharge <= 250].Height_Discharge.max()}\")\n",
    "print(f\"Najmanja normalna visina u datasetu: {all[all.Height_Discharge > 120].Height_Discharge.min()}\")"
   ]
  },
  {
   "cell_type": "code",
   "execution_count": 16,
   "id": "831d3ec9-b105-46b6-ad15-4f7800dba8ff",
   "metadata": {},
   "outputs": [
    {
     "data": {
      "text/plain": [
       "Gender\n",
       "M    176.0\n",
       "Ž    162.0\n",
       "Name: Height_Discharge, dtype: float64"
      ]
     },
     "execution_count": 16,
     "metadata": {},
     "output_type": "execute_result"
    }
   ],
   "source": [
    "all[\n",
    "    (all.Height_Discharge <= 250) & \n",
    "    (all.Height_Discharge > 120)\n",
    "].groupby('Gender').Height_Discharge.median()"
   ]
  },
  {
   "cell_type": "code",
   "execution_count": 17,
   "id": "1268d18f-e023-4834-90f7-af238ac567ca",
   "metadata": {},
   "outputs": [
    {
     "data": {
      "text/plain": [
       "172.0"
      ]
     },
     "execution_count": 17,
     "metadata": {},
     "output_type": "execute_result"
    }
   ],
   "source": [
    "all[\n",
    "    (all.Height_Discharge <= 250) & \n",
    "    (all.Height_Discharge > 120)\n",
    "].Height_Discharge.median()"
   ]
  },
  {
   "cell_type": "code",
   "execution_count": null,
   "id": "317bc704-c6b2-4094-b91f-c42e312fdf21",
   "metadata": {},
   "outputs": [],
   "source": [
    "# Proposed experiemnt hyperparams for height\n",
    "HEIGHT_MEDIAN_MALE = 176\n",
    "HEIGHT_MEDIAN_FEMALE = 162\n",
    "HEIGHT_MEDIAN_GENDER_MISSING = 172\n",
    "HEIGHT_LOWER_LIM = 130\n",
    "HEIGHT_UPPER_LIM = 204"
   ]
  },
  {
   "cell_type": "markdown",
   "id": "1cfd2ef9-251e-4843-839c-e426d4aa8fc9",
   "metadata": {},
   "source": [
    "## PreviousAdmissionDays hyperparams"
   ]
  },
  {
   "cell_type": "code",
   "execution_count": 20,
   "id": "36d27c19-7b99-4226-8659-581a512f9633",
   "metadata": {},
   "outputs": [
    {
     "data": {
      "text/plain": [
       "count    19742.000000\n",
       "mean      1854.817344\n",
       "std       1975.924014\n",
       "min          1.000000\n",
       "25%        203.000000\n",
       "50%       1055.000000\n",
       "75%       3129.000000\n",
       "max       9254.000000\n",
       "Name: PreviousAdmissionDays, dtype: float64"
      ]
     },
     "execution_count": 20,
     "metadata": {},
     "output_type": "execute_result"
    }
   ],
   "source": [
    "all[\n",
    "    all.PreviousAdmissionDays != -8\n",
    "].PreviousAdmissionDays.describe()"
   ]
  },
  {
   "cell_type": "code",
   "execution_count": 21,
   "id": "49cd1ece-9a7a-44b9-b94a-8e430a27bd32",
   "metadata": {},
   "outputs": [
    {
     "data": {
      "text/plain": [
       "1055.0"
      ]
     },
     "execution_count": 21,
     "metadata": {},
     "output_type": "execute_result"
    }
   ],
   "source": [
    "all[\n",
    "    all.PreviousAdmissionDays != -8\n",
    "].PreviousAdmissionDays.median()"
   ]
  },
  {
   "cell_type": "code",
   "execution_count": 22,
   "id": "033abf54-fc5e-4db4-8447-02525a194f8e",
   "metadata": {},
   "outputs": [],
   "source": [
    "# Proposed experiemnt hyperparams for PreviousAdmissionDays\n",
    "PREV_ADM_DAYS_MEDIAN = 1055"
   ]
  },
  {
   "cell_type": "code",
   "execution_count": null,
   "id": "9267f266-3dbb-4e43-b59b-a8a9b40621a7",
   "metadata": {},
   "outputs": [],
   "source": []
  }
 ],
 "metadata": {
  "kernelspec": {
   "display_name": "Python (kotaopy312)",
   "language": "python",
   "name": "kotaopy312"
  },
  "language_info": {
   "codemirror_mode": {
    "name": "ipython",
    "version": 3
   },
   "file_extension": ".py",
   "mimetype": "text/x-python",
   "name": "python",
   "nbconvert_exporter": "python",
   "pygments_lexer": "ipython3",
   "version": "3.12.2"
  }
 },
 "nbformat": 4,
 "nbformat_minor": 5
}
